{
 "cells": [
  {
   "cell_type": "code",
   "id": "initial_id",
   "metadata": {
    "collapsed": true,
    "ExecuteTime": {
     "end_time": "2025-05-18T18:11:39.186477Z",
     "start_time": "2025-05-18T18:11:35.827951Z"
    }
   },
   "source": [
    "import pandas as pd\n",
    "from deep_translator import GoogleTranslator\n",
    "from tqdm import tqdm"
   ],
   "outputs": [],
   "execution_count": 1
  },
  {
   "metadata": {
    "ExecuteTime": {
     "end_time": "2025-05-19T09:12:14.894455Z",
     "start_time": "2025-05-19T03:11:32.764608Z"
    }
   },
   "cell_type": "code",
   "source": [
    "# Cargar el archivo original\n",
    "df = pd.read_csv(\"../Extraction - Detection/Data/text_phishing.csv\")\n",
    "df = df[['Email Text', 'Email Type']]\n",
    "\n",
    "# Filtrar correos que no excedan los 5000 caracteres\n",
    "df = df[df['Email Text'].astype(str).str.len() < 5000].copy()\n",
    "\n",
    "# Inicializar barra de progreso\n",
    "tqdm.pandas()\n",
    "\n",
    "# Función de traducción segura\n",
    "def traducir(texto):\n",
    "    try:\n",
    "        return GoogleTranslator(source='auto', target='es').translate(texto)\n",
    "    except Exception as e:\n",
    "        return f\"[ERROR] {str(e)}\"\n",
    "\n",
    "# Aplicar traducción con barra de progreso\n",
    "df[\"Email Text Spanish\"] = df[\"Email Text\"].progress_apply(traducir)\n",
    "\n",
    "# Guardar como nuevo archivo\n",
    "df.to_csv(\"text_phishing_es.csv\", index=False)\n",
    "print(\"✅ Traducción completada y guardada como 'text_phishing_es.csv'\")"
   ],
   "id": "f2239cf80ccb8dd9",
   "outputs": [
    {
     "name": "stderr",
     "output_type": "stream",
     "text": [
      "100%|██████████| 17312/17312 [6:00:40<00:00,  1.25s/it]  \n"
     ]
    },
    {
     "name": "stdout",
     "output_type": "stream",
     "text": [
      "✅ Traducción completada y guardada como 'text_phishing_es.csv'\n"
     ]
    }
   ],
   "execution_count": 4
  }
 ],
 "metadata": {
  "kernelspec": {
   "display_name": "Python 3",
   "language": "python",
   "name": "python3"
  },
  "language_info": {
   "codemirror_mode": {
    "name": "ipython",
    "version": 2
   },
   "file_extension": ".py",
   "mimetype": "text/x-python",
   "name": "python",
   "nbconvert_exporter": "python",
   "pygments_lexer": "ipython2",
   "version": "2.7.6"
  }
 },
 "nbformat": 4,
 "nbformat_minor": 5
}
