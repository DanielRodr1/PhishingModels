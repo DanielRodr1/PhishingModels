{
 "cells": [
  {
   "cell_type": "code",
   "id": "initial_id",
   "metadata": {
    "collapsed": true,
    "ExecuteTime": {
     "end_time": "2025-06-04T04:25:53.505832Z",
     "start_time": "2025-06-04T04:25:53.022889Z"
    }
   },
   "source": [
    "import pandas as pd\n",
    "from deep_translator import GoogleTranslator\n",
    "from tqdm import tqdm"
   ],
   "outputs": [],
   "execution_count": 2
  },
  {
   "metadata": {
    "jupyter": {
     "is_executing": true
    },
    "ExecuteTime": {
     "start_time": "2025-06-04T05:27:58.063491Z"
    }
   },
   "cell_type": "code",
   "source": [
    "# Cargar el archivo original\n",
    "df = pd.read_csv(\"../Extraction - Detection/Data/text_phishing.csv\")\n",
    "df = df[['Email Text', 'Email Type']]\n",
    "\n",
    "# Filtrar correos que no excedan los 5000 caracteres\n",
    "df = df[df['Email Text'].astype(str).str.len() < 5000].copy()\n",
    "\n",
    "# Inicializar barra de progreso\n",
    "tqdm.pandas()\n",
    "\n",
    "# Función de traducción segura\n",
    "def traducir(texto):\n",
    "    try:\n",
    "        return GoogleTranslator(source='auto', target='es').translate(texto)\n",
    "    except Exception as e:\n",
    "        return f\"[ERROR] {str(e)}\"\n",
    "\n",
    "# Aplicar traducción con barra de progreso\n",
    "df[\"Email Text Spanish\"] = df[\"Email Text\"].progress_apply(traducir)\n",
    "\n",
    "# Guardar como nuevo archivo\n",
    "df.to_csv(\"text_phishing_es_new.csv\", index=False)\n",
    "print(\"✅ Traducción completada y guardada como 'text_phishing_es    .csv'\")"
   ],
   "id": "f2239cf80ccb8dd9",
   "outputs": [
    {
     "name": "stderr",
     "output_type": "stream",
     "text": [
      "  0%|          | 26/17312 [00:16<2:57:18,  1.62it/s]"
     ]
    }
   ],
   "execution_count": null
  }
 ],
 "metadata": {
  "kernelspec": {
   "display_name": "Python 3",
   "language": "python",
   "name": "python3"
  },
  "language_info": {
   "codemirror_mode": {
    "name": "ipython",
    "version": 2
   },
   "file_extension": ".py",
   "mimetype": "text/x-python",
   "name": "python",
   "nbconvert_exporter": "python",
   "pygments_lexer": "ipython2",
   "version": "2.7.6"
  }
 },
 "nbformat": 4,
 "nbformat_minor": 5
}
