{
 "cells": [
  {
   "cell_type": "code",
   "id": "initial_id",
   "metadata": {
    "collapsed": true,
    "ExecuteTime": {
     "end_time": "2025-06-04T10:14:41.012406Z",
     "start_time": "2025-06-04T10:14:41.007663Z"
    }
   },
   "source": [
    "import pandas as pd\n",
    "import matplotlib.pyplot as plt\n",
    "import seaborn as sns\n",
    "from sklearn.model_selection import train_test_split\n",
    "from sklearn.feature_extraction.text import TfidfVectorizer\n",
    "from sklearn.linear_model import LogisticRegression\n",
    "from sklearn.preprocessing import StandardScaler\n",
    "from scipy.sparse import hstack\n",
    "from sklearn.model_selection import GridSearchCV\n",
    "from sklearn.metrics import (\n",
    "    accuracy_score, precision_score, recall_score,\n",
    "    f1_score, roc_auc_score, confusion_matrix, classification_report\n",
    ")\n",
    "from nltk.corpus import stopwords\n",
    "import nltk\n",
    "import joblib"
   ],
   "outputs": [],
   "execution_count": 1108
  },
  {
   "metadata": {
    "ExecuteTime": {
     "end_time": "2025-06-04T10:14:41.210020Z",
     "start_time": "2025-06-04T10:14:41.039931Z"
    }
   },
   "cell_type": "code",
   "source": [
    "df = pd.read_csv(\"text_phishing_es_new.csv\")\n",
    "df"
   ],
   "id": "42cb5cccb523fbf1",
   "outputs": [
    {
     "data": {
      "text/plain": [
       "                                             Email Text      Email Type  \\\n",
       "0     re : 6 . 1100 , disc : uniformitarianism , re ...      Safe Email   \n",
       "1     the other side of * galicismos * * galicismo *...      Safe Email   \n",
       "2     re : equistar deal tickets are you still avail...      Safe Email   \n",
       "3     \\nHello I am your hot lil horny toy.\\n    I am...  Phishing Email   \n",
       "4     software at incredibly low prices ( 86 % lower...  Phishing Email   \n",
       "...                                                 ...             ...   \n",
       "6526  please respond banque international du burkina...  Phishing Email   \n",
       "6527  new books : syntax new from holland academic g...      Safe Email   \n",
       "6528  fw : no truer words were ever spoken cute ! - ...      Safe Email   \n",
       "6529  >>>>> \"G\" == Gregory Alan Bolcer  writes:    G...      Safe Email   \n",
       "6530  Online Credit BreakthroughÂ Â Repair Your Cred...  Phishing Email   \n",
       "\n",
       "                                     Email Text Spanish  \n",
       "0     Re: 6. 1100, disco: uniformitarismo, Re: 1086;...  \n",
       "1     El otro lado de * Galicicho * * Galicismo * es...  \n",
       "2     Re: Tickets de acuerdo de Equistar todavía est...  \n",
       "3     Hola, soy tu juguete caliente y caliente.\\n   ...  \n",
       "4     Software a precios increíblemente bajos (86 % ...  \n",
       "...                                                 ...  \n",
       "6526  Responda la banca internacional du burkina, av...  \n",
       "6527  Nuevos libros: Sintaxis Nuevo de Holland Acade...  \n",
       "6528  FW: ¡Alguna vez no se pronunciaron palabras má...  \n",
       "6529  >>>>> \"G\" == Gregory Alan Bolcer escribe: G> E...  \n",
       "6530  Crédito en línea. ¡Obtenga la información que ...  \n",
       "\n",
       "[6531 rows x 3 columns]"
      ],
      "text/html": [
       "<div>\n",
       "<style scoped>\n",
       "    .dataframe tbody tr th:only-of-type {\n",
       "        vertical-align: middle;\n",
       "    }\n",
       "\n",
       "    .dataframe tbody tr th {\n",
       "        vertical-align: top;\n",
       "    }\n",
       "\n",
       "    .dataframe thead th {\n",
       "        text-align: right;\n",
       "    }\n",
       "</style>\n",
       "<table border=\"1\" class=\"dataframe\">\n",
       "  <thead>\n",
       "    <tr style=\"text-align: right;\">\n",
       "      <th></th>\n",
       "      <th>Email Text</th>\n",
       "      <th>Email Type</th>\n",
       "      <th>Email Text Spanish</th>\n",
       "    </tr>\n",
       "  </thead>\n",
       "  <tbody>\n",
       "    <tr>\n",
       "      <th>0</th>\n",
       "      <td>re : 6 . 1100 , disc : uniformitarianism , re ...</td>\n",
       "      <td>Safe Email</td>\n",
       "      <td>Re: 6. 1100, disco: uniformitarismo, Re: 1086;...</td>\n",
       "    </tr>\n",
       "    <tr>\n",
       "      <th>1</th>\n",
       "      <td>the other side of * galicismos * * galicismo *...</td>\n",
       "      <td>Safe Email</td>\n",
       "      <td>El otro lado de * Galicicho * * Galicismo * es...</td>\n",
       "    </tr>\n",
       "    <tr>\n",
       "      <th>2</th>\n",
       "      <td>re : equistar deal tickets are you still avail...</td>\n",
       "      <td>Safe Email</td>\n",
       "      <td>Re: Tickets de acuerdo de Equistar todavía est...</td>\n",
       "    </tr>\n",
       "    <tr>\n",
       "      <th>3</th>\n",
       "      <td>\\nHello I am your hot lil horny toy.\\n    I am...</td>\n",
       "      <td>Phishing Email</td>\n",
       "      <td>Hola, soy tu juguete caliente y caliente.\\n   ...</td>\n",
       "    </tr>\n",
       "    <tr>\n",
       "      <th>4</th>\n",
       "      <td>software at incredibly low prices ( 86 % lower...</td>\n",
       "      <td>Phishing Email</td>\n",
       "      <td>Software a precios increíblemente bajos (86 % ...</td>\n",
       "    </tr>\n",
       "    <tr>\n",
       "      <th>...</th>\n",
       "      <td>...</td>\n",
       "      <td>...</td>\n",
       "      <td>...</td>\n",
       "    </tr>\n",
       "    <tr>\n",
       "      <th>6526</th>\n",
       "      <td>please respond banque international du burkina...</td>\n",
       "      <td>Phishing Email</td>\n",
       "      <td>Responda la banca internacional du burkina, av...</td>\n",
       "    </tr>\n",
       "    <tr>\n",
       "      <th>6527</th>\n",
       "      <td>new books : syntax new from holland academic g...</td>\n",
       "      <td>Safe Email</td>\n",
       "      <td>Nuevos libros: Sintaxis Nuevo de Holland Acade...</td>\n",
       "    </tr>\n",
       "    <tr>\n",
       "      <th>6528</th>\n",
       "      <td>fw : no truer words were ever spoken cute ! - ...</td>\n",
       "      <td>Safe Email</td>\n",
       "      <td>FW: ¡Alguna vez no se pronunciaron palabras má...</td>\n",
       "    </tr>\n",
       "    <tr>\n",
       "      <th>6529</th>\n",
       "      <td>&gt;&gt;&gt;&gt;&gt; \"G\" == Gregory Alan Bolcer  writes:    G...</td>\n",
       "      <td>Safe Email</td>\n",
       "      <td>&gt;&gt;&gt;&gt;&gt; \"G\" == Gregory Alan Bolcer escribe: G&gt; E...</td>\n",
       "    </tr>\n",
       "    <tr>\n",
       "      <th>6530</th>\n",
       "      <td>Online Credit BreakthroughÂ Â Repair Your Cred...</td>\n",
       "      <td>Phishing Email</td>\n",
       "      <td>Crédito en línea. ¡Obtenga la información que ...</td>\n",
       "    </tr>\n",
       "  </tbody>\n",
       "</table>\n",
       "<p>6531 rows × 3 columns</p>\n",
       "</div>"
      ]
     },
     "execution_count": 1109,
     "metadata": {},
     "output_type": "execute_result"
    }
   ],
   "execution_count": 1109
  },
  {
   "metadata": {
    "ExecuteTime": {
     "end_time": "2025-06-04T10:14:41.252442Z",
     "start_time": "2025-06-04T10:14:41.244172Z"
    }
   },
   "cell_type": "code",
   "source": "print(df.info())",
   "id": "7825fcc5a09b917d",
   "outputs": [
    {
     "name": "stdout",
     "output_type": "stream",
     "text": [
      "<class 'pandas.core.frame.DataFrame'>\n",
      "RangeIndex: 6531 entries, 0 to 6530\n",
      "Data columns (total 3 columns):\n",
      " #   Column              Non-Null Count  Dtype \n",
      "---  ------              --------------  ----- \n",
      " 0   Email Text          6520 non-null   object\n",
      " 1   Email Type          6531 non-null   object\n",
      " 2   Email Text Spanish  6531 non-null   object\n",
      "dtypes: object(3)\n",
      "memory usage: 153.2+ KB\n",
      "None\n"
     ]
    }
   ],
   "execution_count": 1110
  },
  {
   "metadata": {
    "ExecuteTime": {
     "end_time": "2025-06-04T10:14:41.325902Z",
     "start_time": "2025-06-04T10:14:41.314824Z"
    }
   },
   "cell_type": "code",
   "source": "df.isnull().sum()",
   "id": "ca015bc74262dbff",
   "outputs": [
    {
     "data": {
      "text/plain": [
       "Email Text            11\n",
       "Email Type             0\n",
       "Email Text Spanish     0\n",
       "dtype: int64"
      ]
     },
     "execution_count": 1111,
     "metadata": {},
     "output_type": "execute_result"
    }
   ],
   "execution_count": 1111
  },
  {
   "metadata": {
    "ExecuteTime": {
     "end_time": "2025-06-04T10:14:41.443370Z",
     "start_time": "2025-06-04T10:14:41.436054Z"
    }
   },
   "cell_type": "code",
   "source": "df[\"Email Type\"].value_counts()",
   "id": "32f1915ae099d4c9",
   "outputs": [
    {
     "data": {
      "text/plain": [
       "Email Type\n",
       "Safe Email        3958\n",
       "Phishing Email    2573\n",
       "Name: count, dtype: int64"
      ]
     },
     "execution_count": 1112,
     "metadata": {},
     "output_type": "execute_result"
    }
   ],
   "execution_count": 1112
  },
  {
   "metadata": {
    "ExecuteTime": {
     "end_time": "2025-06-04T10:14:41.593218Z",
     "start_time": "2025-06-04T10:14:41.553091Z"
    }
   },
   "cell_type": "code",
   "source": "df.duplicated().sum()",
   "id": "108e9ac60ecd71fc",
   "outputs": [
    {
     "data": {
      "text/plain": [
       "np.int64(280)"
      ]
     },
     "execution_count": 1113,
     "metadata": {},
     "output_type": "execute_result"
    }
   ],
   "execution_count": 1113
  },
  {
   "metadata": {
    "ExecuteTime": {
     "end_time": "2025-06-04T10:14:41.677451Z",
     "start_time": "2025-06-04T10:14:41.667771Z"
    }
   },
   "cell_type": "code",
   "source": [
    "# Eliminar filas con texto vacío o nulo\n",
    "df = df.dropna()\n",
    "df.isnull().sum()"
   ],
   "id": "a3d2fff77b591698",
   "outputs": [
    {
     "data": {
      "text/plain": [
       "Email Text            0\n",
       "Email Type            0\n",
       "Email Text Spanish    0\n",
       "dtype: int64"
      ]
     },
     "execution_count": 1114,
     "metadata": {},
     "output_type": "execute_result"
    }
   ],
   "execution_count": 1114
  },
  {
   "metadata": {
    "ExecuteTime": {
     "end_time": "2025-06-04T10:14:41.774136Z",
     "start_time": "2025-06-04T10:14:41.769460Z"
    }
   },
   "cell_type": "code",
   "source": [
    "#Se pasa las columnas a la nomenclatura snake_case\n",
    "df = df.rename(columns={'Email Text': 'email_text', 'Email Type': 'email_type'})"
   ],
   "id": "194a02b2463d7598",
   "outputs": [],
   "execution_count": 1115
  },
  {
   "metadata": {
    "ExecuteTime": {
     "end_time": "2025-06-04T10:14:41.835903Z",
     "start_time": "2025-06-04T10:14:41.825876Z"
    }
   },
   "cell_type": "code",
   "source": "df.info()",
   "id": "faceacaaf498fda4",
   "outputs": [
    {
     "name": "stdout",
     "output_type": "stream",
     "text": [
      "<class 'pandas.core.frame.DataFrame'>\n",
      "Index: 6520 entries, 0 to 6530\n",
      "Data columns (total 3 columns):\n",
      " #   Column              Non-Null Count  Dtype \n",
      "---  ------              --------------  ----- \n",
      " 0   email_text          6520 non-null   object\n",
      " 1   email_type          6520 non-null   object\n",
      " 2   Email Text Spanish  6520 non-null   object\n",
      "dtypes: object(3)\n",
      "memory usage: 203.8+ KB\n"
     ]
    }
   ],
   "execution_count": 1116
  },
  {
   "metadata": {
    "ExecuteTime": {
     "end_time": "2025-06-04T10:14:41.913458Z",
     "start_time": "2025-06-04T10:14:41.906915Z"
    }
   },
   "cell_type": "code",
   "source": [
    "# Añadir una columna Label, mapear los valores de Email Type para convertirlos a numéricos\n",
    "df['label'] = df['email_type'].map({'Phishing Email': 1, 'Safe Email': 0})"
   ],
   "id": "20118c757598eb24",
   "outputs": [],
   "execution_count": 1117
  },
  {
   "metadata": {
    "ExecuteTime": {
     "end_time": "2025-06-04T10:14:41.976696Z",
     "start_time": "2025-06-04T10:14:41.969966Z"
    }
   },
   "cell_type": "code",
   "source": "df = df.drop(columns=['email_type'])",
   "id": "df1e91aada060527",
   "outputs": [],
   "execution_count": 1118
  },
  {
   "metadata": {
    "ExecuteTime": {
     "end_time": "2025-06-04T10:14:42.034437Z",
     "start_time": "2025-06-04T10:14:42.025707Z"
    }
   },
   "cell_type": "code",
   "source": "df['email_length'] = df['email_text'].apply(len)",
   "id": "d707e2bf639977ef",
   "outputs": [],
   "execution_count": 1119
  },
  {
   "metadata": {
    "ExecuteTime": {
     "end_time": "2025-06-04T10:14:42.076836Z",
     "start_time": "2025-06-04T10:14:42.061739Z"
    }
   },
   "cell_type": "code",
   "source": "df.describe()",
   "id": "1cbf27bf68820441",
   "outputs": [
    {
     "data": {
      "text/plain": [
       "             label  email_length\n",
       "count  6520.000000   6520.000000\n",
       "mean      0.392945   1124.069785\n",
       "std       0.488442   1029.290559\n",
       "min       0.000000      5.000000\n",
       "25%       0.000000    376.000000\n",
       "50%       0.000000    785.000000\n",
       "75%       1.000000   1557.000000\n",
       "max       1.000000   4998.000000"
      ],
      "text/html": [
       "<div>\n",
       "<style scoped>\n",
       "    .dataframe tbody tr th:only-of-type {\n",
       "        vertical-align: middle;\n",
       "    }\n",
       "\n",
       "    .dataframe tbody tr th {\n",
       "        vertical-align: top;\n",
       "    }\n",
       "\n",
       "    .dataframe thead th {\n",
       "        text-align: right;\n",
       "    }\n",
       "</style>\n",
       "<table border=\"1\" class=\"dataframe\">\n",
       "  <thead>\n",
       "    <tr style=\"text-align: right;\">\n",
       "      <th></th>\n",
       "      <th>label</th>\n",
       "      <th>email_length</th>\n",
       "    </tr>\n",
       "  </thead>\n",
       "  <tbody>\n",
       "    <tr>\n",
       "      <th>count</th>\n",
       "      <td>6520.000000</td>\n",
       "      <td>6520.000000</td>\n",
       "    </tr>\n",
       "    <tr>\n",
       "      <th>mean</th>\n",
       "      <td>0.392945</td>\n",
       "      <td>1124.069785</td>\n",
       "    </tr>\n",
       "    <tr>\n",
       "      <th>std</th>\n",
       "      <td>0.488442</td>\n",
       "      <td>1029.290559</td>\n",
       "    </tr>\n",
       "    <tr>\n",
       "      <th>min</th>\n",
       "      <td>0.000000</td>\n",
       "      <td>5.000000</td>\n",
       "    </tr>\n",
       "    <tr>\n",
       "      <th>25%</th>\n",
       "      <td>0.000000</td>\n",
       "      <td>376.000000</td>\n",
       "    </tr>\n",
       "    <tr>\n",
       "      <th>50%</th>\n",
       "      <td>0.000000</td>\n",
       "      <td>785.000000</td>\n",
       "    </tr>\n",
       "    <tr>\n",
       "      <th>75%</th>\n",
       "      <td>1.000000</td>\n",
       "      <td>1557.000000</td>\n",
       "    </tr>\n",
       "    <tr>\n",
       "      <th>max</th>\n",
       "      <td>1.000000</td>\n",
       "      <td>4998.000000</td>\n",
       "    </tr>\n",
       "  </tbody>\n",
       "</table>\n",
       "</div>"
      ]
     },
     "execution_count": 1120,
     "metadata": {},
     "output_type": "execute_result"
    }
   ],
   "execution_count": 1120
  },
  {
   "metadata": {
    "ExecuteTime": {
     "end_time": "2025-06-04T10:14:42.256450Z",
     "start_time": "2025-06-04T10:14:42.139584Z"
    }
   },
   "cell_type": "code",
   "source": [
    "# Visualizar distribución de longitudes\n",
    "plt.figure(figsize=(10, 4))\n",
    "sns.boxplot(data=df, x='email_length')\n",
    "plt.title(\"Distribución de longitud de correos\")\n",
    "plt.xlabel(\"Cantidad de caracteres\")\n",
    "plt.grid(True) # Mostrar la grilla del fondo\n",
    "plt.tight_layout() # Ajusta automáticamente el gráfico para que no se corte\n",
    "plt.show()"
   ],
   "id": "9da990ed173858bc",
   "outputs": [
    {
     "data": {
      "text/plain": [
       "<Figure size 1000x400 with 1 Axes>"
      ],
      "image/png": "[encoded data removed]"
     },
     "metadata": {},
     "output_type": "display_data"
    }
   ],
   "execution_count": 1121
  },
  {
   "metadata": {
    "ExecuteTime": {
     "end_time": "2025-06-04T10:14:42.293148Z",
     "start_time": "2025-06-04T10:14:42.285807Z"
    }
   },
   "cell_type": "code",
   "source": "df['email_length'].sort_values(ascending=False)",
   "id": "c0fbb8c6f0fb4e86",
   "outputs": [
    {
     "data": {
      "text/plain": [
       "5198    4998\n",
       "4876    4992\n",
       "5652    4989\n",
       "3683    4980\n",
       "5290    4975\n",
       "        ... \n",
       "6077       5\n",
       "3642       5\n",
       "1864       5\n",
       "3636       5\n",
       "4881       5\n",
       "Name: email_length, Length: 6520, dtype: int64"
      ]
     },
     "execution_count": 1122,
     "metadata": {},
     "output_type": "execute_result"
    }
   ],
   "execution_count": 1122
  },
  {
   "metadata": {
    "ExecuteTime": {
     "end_time": "2025-06-04T10:14:42.345186Z",
     "start_time": "2025-06-04T10:14:42.337396Z"
    }
   },
   "cell_type": "code",
   "source": [
    "# Escalar longitud del correo\n",
    "scaler = StandardScaler()\n",
    "df['email_length_scaled'] = scaler.fit_transform(df[['email_length']])"
   ],
   "id": "aacc84ca5e651d76",
   "outputs": [],
   "execution_count": 1123
  },
  {
   "metadata": {
    "ExecuteTime": {
     "end_time": "2025-06-04T10:14:42.426117Z",
     "start_time": "2025-06-04T10:14:42.412333Z"
    }
   },
   "cell_type": "code",
   "source": "df",
   "id": "a1f26c00f7b8e400",
   "outputs": [
    {
     "data": {
      "text/plain": [
       "                                             email_text  \\\n",
       "0     re : 6 . 1100 , disc : uniformitarianism , re ...   \n",
       "1     the other side of * galicismos * * galicismo *...   \n",
       "2     re : equistar deal tickets are you still avail...   \n",
       "3     \\nHello I am your hot lil horny toy.\\n    I am...   \n",
       "4     software at incredibly low prices ( 86 % lower...   \n",
       "...                                                 ...   \n",
       "6526  please respond banque international du burkina...   \n",
       "6527  new books : syntax new from holland academic g...   \n",
       "6528  fw : no truer words were ever spoken cute ! - ...   \n",
       "6529  >>>>> \"G\" == Gregory Alan Bolcer  writes:    G...   \n",
       "6530  Online Credit BreakthroughÂ Â Repair Your Cred...   \n",
       "\n",
       "                                     Email Text Spanish  label  email_length  \\\n",
       "0     Re: 6. 1100, disco: uniformitarismo, Re: 1086;...      0          1030   \n",
       "1     El otro lado de * Galicicho * * Galicismo * es...      0           479   \n",
       "2     Re: Tickets de acuerdo de Equistar todavía est...      0          1245   \n",
       "3     Hola, soy tu juguete caliente y caliente.\\n   ...      1           688   \n",
       "4     Software a precios increíblemente bajos (86 % ...      1           441   \n",
       "...                                                 ...    ...           ...   \n",
       "6526  Responda la banca internacional du burkina, av...      1          3151   \n",
       "6527  Nuevos libros: Sintaxis Nuevo de Holland Acade...      0          1813   \n",
       "6528  FW: ¡Alguna vez no se pronunciaron palabras má...      0          1247   \n",
       "6529  >>>>> \"G\" == Gregory Alan Bolcer escribe: G> E...      0          2309   \n",
       "6530  Crédito en línea. ¡Obtenga la información que ...      1           548   \n",
       "\n",
       "      email_length_scaled  \n",
       "0               -0.091400  \n",
       "1               -0.626761  \n",
       "2                0.117498  \n",
       "3               -0.423693  \n",
       "4               -0.663683  \n",
       "...                   ...  \n",
       "6526             1.969401  \n",
       "6527             0.669377  \n",
       "6528             0.119441  \n",
       "6529             1.151299  \n",
       "6530            -0.559719  \n",
       "\n",
       "[6520 rows x 5 columns]"
      ],
      "text/html": [
       "<div>\n",
       "<style scoped>\n",
       "    .dataframe tbody tr th:only-of-type {\n",
       "        vertical-align: middle;\n",
       "    }\n",
       "\n",
       "    .dataframe tbody tr th {\n",
       "        vertical-align: top;\n",
       "    }\n",
       "\n",
       "    .dataframe thead th {\n",
       "        text-align: right;\n",
       "    }\n",
       "</style>\n",
       "<table border=\"1\" class=\"dataframe\">\n",
       "  <thead>\n",
       "    <tr style=\"text-align: right;\">\n",
       "      <th></th>\n",
       "      <th>email_text</th>\n",
       "      <th>Email Text Spanish</th>\n",
       "      <th>label</th>\n",
       "      <th>email_length</th>\n",
       "      <th>email_length_scaled</th>\n",
       "    </tr>\n",
       "  </thead>\n",
       "  <tbody>\n",
       "    <tr>\n",
       "      <th>0</th>\n",
       "      <td>re : 6 . 1100 , disc : uniformitarianism , re ...</td>\n",
       "      <td>Re: 6. 1100, disco: uniformitarismo, Re: 1086;...</td>\n",
       "      <td>0</td>\n",
       "      <td>1030</td>\n",
       "      <td>-0.091400</td>\n",
       "    </tr>\n",
       "    <tr>\n",
       "      <th>1</th>\n",
       "      <td>the other side of * galicismos * * galicismo *...</td>\n",
       "      <td>El otro lado de * Galicicho * * Galicismo * es...</td>\n",
       "      <td>0</td>\n",
       "      <td>479</td>\n",
       "      <td>-0.626761</td>\n",
       "    </tr>\n",
       "    <tr>\n",
       "      <th>2</th>\n",
       "      <td>re : equistar deal tickets are you still avail...</td>\n",
       "      <td>Re: Tickets de acuerdo de Equistar todavía est...</td>\n",
       "      <td>0</td>\n",
       "      <td>1245</td>\n",
       "      <td>0.117498</td>\n",
       "    </tr>\n",
       "    <tr>\n",
       "      <th>3</th>\n",
       "      <td>\\nHello I am your hot lil horny toy.\\n    I am...</td>\n",
       "      <td>Hola, soy tu juguete caliente y caliente.\\n   ...</td>\n",
       "      <td>1</td>\n",
       "      <td>688</td>\n",
       "      <td>-0.423693</td>\n",
       "    </tr>\n",
       "    <tr>\n",
       "      <th>4</th>\n",
       "      <td>software at incredibly low prices ( 86 % lower...</td>\n",
       "      <td>Software a precios increíblemente bajos (86 % ...</td>\n",
       "      <td>1</td>\n",
       "      <td>441</td>\n",
       "      <td>-0.663683</td>\n",
       "    </tr>\n",
       "    <tr>\n",
       "      <th>...</th>\n",
       "      <td>...</td>\n",
       "      <td>...</td>\n",
       "      <td>...</td>\n",
       "      <td>...</td>\n",
       "      <td>...</td>\n",
       "    </tr>\n",
       "    <tr>\n",
       "      <th>6526</th>\n",
       "      <td>please respond banque international du burkina...</td>\n",
       "      <td>Responda la banca internacional du burkina, av...</td>\n",
       "      <td>1</td>\n",
       "      <td>3151</td>\n",
       "      <td>1.969401</td>\n",
       "    </tr>\n",
       "    <tr>\n",
       "      <th>6527</th>\n",
       "      <td>new books : syntax new from holland academic g...</td>\n",
       "      <td>Nuevos libros: Sintaxis Nuevo de Holland Acade...</td>\n",
       "      <td>0</td>\n",
       "      <td>1813</td>\n",
       "      <td>0.669377</td>\n",
       "    </tr>\n",
       "    <tr>\n",
       "      <th>6528</th>\n",
       "      <td>fw : no truer words were ever spoken cute ! - ...</td>\n",
       "      <td>FW: ¡Alguna vez no se pronunciaron palabras má...</td>\n",
       "      <td>0</td>\n",
       "      <td>1247</td>\n",
       "      <td>0.119441</td>\n",
       "    </tr>\n",
       "    <tr>\n",
       "      <th>6529</th>\n",
       "      <td>&gt;&gt;&gt;&gt;&gt; \"G\" == Gregory Alan Bolcer  writes:    G...</td>\n",
       "      <td>&gt;&gt;&gt;&gt;&gt; \"G\" == Gregory Alan Bolcer escribe: G&gt; E...</td>\n",
       "      <td>0</td>\n",
       "      <td>2309</td>\n",
       "      <td>1.151299</td>\n",
       "    </tr>\n",
       "    <tr>\n",
       "      <th>6530</th>\n",
       "      <td>Online Credit BreakthroughÂ Â Repair Your Cred...</td>\n",
       "      <td>Crédito en línea. ¡Obtenga la información que ...</td>\n",
       "      <td>1</td>\n",
       "      <td>548</td>\n",
       "      <td>-0.559719</td>\n",
       "    </tr>\n",
       "  </tbody>\n",
       "</table>\n",
       "<p>6520 rows × 5 columns</p>\n",
       "</div>"
      ]
     },
     "execution_count": 1124,
     "metadata": {},
     "output_type": "execute_result"
    }
   ],
   "execution_count": 1124
  },
  {
   "metadata": {
    "ExecuteTime": {
     "end_time": "2025-06-04T10:14:42.551256Z",
     "start_time": "2025-06-04T10:14:42.543534Z"
    }
   },
   "cell_type": "code",
   "source": [
    "df=df.drop(\"email_text\", axis=1)\n",
    "#Se pasa las columnas a la nomenclatura snake_case\n",
    "df = df.rename(columns={'Email Text Spanish': 'email_text'})"
   ],
   "id": "b43796d74a4c617e",
   "outputs": [],
   "execution_count": 1125
  },
  {
   "metadata": {
    "ExecuteTime": {
     "end_time": "2025-06-04T10:14:42.785240Z",
     "start_time": "2025-06-04T10:14:42.780240Z"
    }
   },
   "cell_type": "code",
   "source": [
    "# 5. Preparar datos para ML\n",
    "X_text = df['email_text']  # features: cuerpo del email\n",
    "X_num = df[['email_length_scaled']]\n",
    "y = df['label']       # etiquetas: 1 = phishing, 0 = legítimo"
   ],
   "id": "20ac7fd42be0f4ea",
   "outputs": [],
   "execution_count": 1126
  },
  {
   "metadata": {
    "ExecuteTime": {
     "end_time": "2025-06-04T10:14:42.825096Z",
     "start_time": "2025-06-04T10:14:42.817358Z"
    }
   },
   "cell_type": "code",
   "source": [
    "# Dividir en entrenamiento y prueba\n",
    "X_train_text, X_test_text, X_train_num, X_test_num, y_train, y_test = train_test_split(\n",
    "    X_text, X_num, y, test_size=0.2, stratify=y, random_state=42\n",
    ")"
   ],
   "id": "c131c92eef8f64fd",
   "outputs": [],
   "execution_count": 1127
  },
  {
   "metadata": {
    "ExecuteTime": {
     "end_time": "2025-06-04T10:14:42.872343Z",
     "start_time": "2025-06-04T10:14:42.866482Z"
    }
   },
   "cell_type": "code",
   "source": [
    "nltk.download('stopwords')\n",
    "spanish_stopwords = stopwords.words('spanish')"
   ],
   "id": "9e0105117f737fcb",
   "outputs": [
    {
     "name": "stderr",
     "output_type": "stream",
     "text": [
      "[nltk_data] Downloading package stopwords to C:\\Users\\Daniel\n",
      "[nltk_data]     R\\AppData\\Roaming\\nltk_data...\n",
      "[nltk_data]   Package stopwords is already up-to-date!\n"
     ]
    }
   ],
   "execution_count": 1128
  },
  {
   "metadata": {
    "ExecuteTime": {
     "end_time": "2025-06-04T10:14:43.948302Z",
     "start_time": "2025-06-04T10:14:42.899341Z"
    }
   },
   "cell_type": "code",
   "source": [
    "# Convertimos texto a vectores numéricos con TF-IDF\n",
    "tfidf_body = TfidfVectorizer(stop_words=spanish_stopwords, max_features=10000)\n",
    "X_train_tfidf = tfidf_body.fit_transform(X_train_text)\n",
    "X_test_tfidf = tfidf_body.transform(X_test_text)"
   ],
   "id": "dbc0e53e68931d88",
   "outputs": [],
   "execution_count": 1129
  },
  {
   "metadata": {
    "ExecuteTime": {
     "end_time": "2025-06-04T10:14:43.975596Z",
     "start_time": "2025-06-04T10:14:43.965425Z"
    }
   },
   "cell_type": "code",
   "source": [
    "# Unir vectores TF-IDF + numéricos normalizados\n",
    "X_train_final = hstack([X_train_tfidf, X_train_num])\n",
    "X_test_final = hstack([X_test_tfidf, X_test_num])"
   ],
   "id": "b2315809511341a6",
   "outputs": [],
   "execution_count": 1130
  },
  {
   "metadata": {
    "ExecuteTime": {
     "end_time": "2025-06-04T10:14:48.076609Z",
     "start_time": "2025-06-04T10:14:43.996683Z"
    }
   },
   "cell_type": "code",
   "source": [
    "# 1. Definir el modelo base\n",
    "log_reg = LogisticRegression(random_state=42)\n",
    "\n",
    "# 2. Definir los hiperparámetros a probar\n",
    "param_grid = {\n",
    "    'C': [0.01, 0.1, 1, 10],\n",
    "    'penalty': ['l2'],\n",
    "    'solver': ['liblinear', 'lbfgs'],\n",
    "    'max_iter': [100, 200, 300, 500]\n",
    "}\n",
    "\n",
    "# 3. Aplicar búsqueda de hiperparámetros con validación cruzada\n",
    "grid = GridSearchCV(\n",
    "    estimator=log_reg,\n",
    "    param_grid=param_grid,\n",
    "    cv=5,\n",
    "    scoring='f1',\n",
    "    verbose=1,\n",
    "    n_jobs=-1\n",
    ")\n",
    "\n",
    "# 4. Entrenar el modelo con el mejor conjunto de hiperparámetros\n",
    "grid.fit(X_train_final, y_train)"
   ],
   "id": "6e5573acbe5c710",
   "outputs": [
    {
     "name": "stdout",
     "output_type": "stream",
     "text": [
      "Fitting 5 folds for each of 32 candidates, totalling 160 fits\n"
     ]
    },
    {
     "data": {
      "text/plain": [
       "GridSearchCV(cv=5, estimator=LogisticRegression(random_state=42), n_jobs=-1,\n",
       "             param_grid={'C': [0.01, 0.1, 1, 10],\n",
       "                         'max_iter': [100, 200, 300, 500], 'penalty': ['l2'],\n",
       "                         'solver': ['liblinear', 'lbfgs']},\n",
       "             scoring='f1', verbose=1)"
      ],
      "text/html": [
       "<style>#sk-container-id-63 {\n",
       "  /* Definition of color scheme common for light and dark mode */\n",
       "  --sklearn-color-text: #000;\n",
       "  --sklearn-color-text-muted: #666;\n",
       "  --sklearn-color-line: gray;\n",
       "  /* Definition of color scheme for unfitted estimators */\n",
       "  --sklearn-color-unfitted-level-0: #fff5e6;\n",
       "  --sklearn-color-unfitted-level-1: #f6e4d2;\n",
       "  --sklearn-color-unfitted-level-2: #ffe0b3;\n",
       "  --sklearn-color-unfitted-level-3: chocolate;\n",
       "  /* Definition of color scheme for fitted estimators */\n",
       "  --sklearn-color-fitted-level-0: #f0f8ff;\n",
       "  --sklearn-color-fitted-level-1: #d4ebff;\n",
       "  --sklearn-color-fitted-level-2: #b3dbfd;\n",
       "  --sklearn-color-fitted-level-3: cornflowerblue;\n",
       "\n",
       "  /* Specific color for light theme */\n",
       "  --sklearn-color-text-on-default-background: var(--sg-text-color, var(--theme-code-foreground, var(--jp-content-font-color1, black)));\n",
       "  --sklearn-color-background: var(--sg-background-color, var(--theme-background, var(--jp-layout-color0, white)));\n",
       "  --sklearn-color-border-box: var(--sg-text-color, var(--theme-code-foreground, var(--jp-content-font-color1, black)));\n",
       "  --sklearn-color-icon: #696969;\n",
       "\n",
       "  @media (prefers-color-scheme: dark) {\n",
       "    /* Redefinition of color scheme for dark theme */\n",
       "    --sklearn-color-text-on-default-background: var(--sg-text-color, var(--theme-code-foreground, var(--jp-content-font-color1, white)));\n",
       "    --sklearn-color-background: var(--sg-background-color, var(--theme-background, var(--jp-layout-color0, #111)));\n",
       "    --sklearn-color-border-box: var(--sg-text-color, var(--theme-code-foreground, var(--jp-content-font-color1, white)));\n",
       "    --sklearn-color-icon: #878787;\n",
       "  }\n",
       "}\n",
       "\n",
       "#sk-container-id-63 {\n",
       "  color: var(--sklearn-color-text);\n",
       "}\n",
       "\n",
       "#sk-container-id-63 pre {\n",
       "  padding: 0;\n",
       "}\n",
       "\n",
       "#sk-container-id-63 input.sk-hidden--visually {\n",
       "  border: 0;\n",
       "  clip: rect(1px 1px 1px 1px);\n",
       "  clip: rect(1px, 1px, 1px, 1px);\n",
       "  height: 1px;\n",
       "  margin: -1px;\n",
       "  overflow: hidden;\n",
       "  padding: 0;\n",
       "  position: absolute;\n",
       "  width: 1px;\n",
       "}\n",
       "\n",
       "#sk-container-id-63 div.sk-dashed-wrapped {\n",
       "  border: 1px dashed var(--sklearn-color-line);\n",
       "  margin: 0 0.4em 0.5em 0.4em;\n",
       "  box-sizing: border-box;\n",
       "  padding-bottom: 0.4em;\n",
       "  background-color: var(--sklearn-color-background);\n",
       "}\n",
       "\n",
       "#sk-container-id-63 div.sk-container {\n",
       "  /* jupyter's `normalize.less` sets `[hidden] { display: none; }`\n",
       "     but bootstrap.min.css set `[hidden] { display: none !important; }`\n",
       "     so we also need the `!important` here to be able to override the\n",
       "     default hidden behavior on the sphinx rendered scikit-learn.org.\n",
       "     See: https://github.com/scikit-learn/scikit-learn/issues/21755 */\n",
       "  display: inline-block !important;\n",
       "  position: relative;\n",
       "}\n",
       "\n",
       "#sk-container-id-63 div.sk-text-repr-fallback {\n",
       "  display: none;\n",
       "}\n",
       "\n",
       "div.sk-parallel-item,\n",
       "div.sk-serial,\n",
       "div.sk-item {\n",
       "  /* draw centered vertical line to link estimators */\n",
       "  background-image: linear-gradient(var(--sklearn-color-text-on-default-background), var(--sklearn-color-text-on-default-background));\n",
       "  background-size: 2px 100%;\n",
       "  background-repeat: no-repeat;\n",
       "  background-position: center center;\n",
       "}\n",
       "\n",
       "/* Parallel-specific style estimator block */\n",
       "\n",
       "#sk-container-id-63 div.sk-parallel-item::after {\n",
       "  content: \"\";\n",
       "  width: 100%;\n",
       "  border-bottom: 2px solid var(--sklearn-color-text-on-default-background);\n",
       "  flex-grow: 1;\n",
       "}\n",
       "\n",
       "#sk-container-id-63 div.sk-parallel {\n",
       "  display: flex;\n",
       "  align-items: stretch;\n",
       "  justify-content: center;\n",
       "  background-color: var(--sklearn-color-background);\n",
       "  position: relative;\n",
       "}\n",
       "\n",
       "#sk-container-id-63 div.sk-parallel-item {\n",
       "  display: flex;\n",
       "  flex-direction: column;\n",
       "}\n",
       "\n",
       "#sk-container-id-63 div.sk-parallel-item:first-child::after {\n",
       "  align-self: flex-end;\n",
       "  width: 50%;\n",
       "}\n",
       "\n",
       "#sk-container-id-63 div.sk-parallel-item:last-child::after {\n",
       "  align-self: flex-start;\n",
       "  width: 50%;\n",
       "}\n",
       "\n",
       "#sk-container-id-63 div.sk-parallel-item:only-child::after {\n",
       "  width: 0;\n",
       "}\n",
       "\n",
       "/* Serial-specific style estimator block */\n",
       "\n",
       "#sk-container-id-63 div.sk-serial {\n",
       "  display: flex;\n",
       "  flex-direction: column;\n",
       "  align-items: center;\n",
       "  background-color: var(--sklearn-color-background);\n",
       "  padding-right: 1em;\n",
       "  padding-left: 1em;\n",
       "}\n",
       "\n",
       "\n",
       "/* Toggleable style: style used for estimator/Pipeline/ColumnTransformer box that is\n",
       "clickable and can be expanded/collapsed.\n",
       "- Pipeline and ColumnTransformer use this feature and define the default style\n",
       "- Estimators will overwrite some part of the style using the `sk-estimator` class\n",
       "*/\n",
       "\n",
       "/* Pipeline and ColumnTransformer style (default) */\n",
       "\n",
       "#sk-container-id-63 div.sk-toggleable {\n",
       "  /* Default theme specific background. It is overwritten whether we have a\n",
       "  specific estimator or a Pipeline/ColumnTransformer */\n",
       "  background-color: var(--sklearn-color-background);\n",
       "}\n",
       "\n",
       "/* Toggleable label */\n",
       "#sk-container-id-63 label.sk-toggleable__label {\n",
       "  cursor: pointer;\n",
       "  display: flex;\n",
       "  width: 100%;\n",
       "  margin-bottom: 0;\n",
       "  padding: 0.5em;\n",
       "  box-sizing: border-box;\n",
       "  text-align: center;\n",
       "  align-items: start;\n",
       "  justify-content: space-between;\n",
       "  gap: 0.5em;\n",
       "}\n",
       "\n",
       "#sk-container-id-63 label.sk-toggleable__label .caption {\n",
       "  font-size: 0.6rem;\n",
       "  font-weight: lighter;\n",
       "  color: var(--sklearn-color-text-muted);\n",
       "}\n",
       "\n",
       "#sk-container-id-63 label.sk-toggleable__label-arrow:before {\n",
       "  /* Arrow on the left of the label */\n",
       "  content: \"▸\";\n",
       "  float: left;\n",
       "  margin-right: 0.25em;\n",
       "  color: var(--sklearn-color-icon);\n",
       "}\n",
       "\n",
       "#sk-container-id-63 label.sk-toggleable__label-arrow:hover:before {\n",
       "  color: var(--sklearn-color-text);\n",
       "}\n",
       "\n",
       "/* Toggleable content - dropdown */\n",
       "\n",
       "#sk-container-id-63 div.sk-toggleable__content {\n",
       "  max-height: 0;\n",
       "  max-width: 0;\n",
       "  overflow: hidden;\n",
       "  text-align: left;\n",
       "  /* unfitted */\n",
       "  background-color: var(--sklearn-color-unfitted-level-0);\n",
       "}\n",
       "\n",
       "#sk-container-id-63 div.sk-toggleable__content.fitted {\n",
       "  /* fitted */\n",
       "  background-color: var(--sklearn-color-fitted-level-0);\n",
       "}\n",
       "\n",
       "#sk-container-id-63 div.sk-toggleable__content pre {\n",
       "  margin: 0.2em;\n",
       "  border-radius: 0.25em;\n",
       "  color: var(--sklearn-color-text);\n",
       "  /* unfitted */\n",
       "  background-color: var(--sklearn-color-unfitted-level-0);\n",
       "}\n",
       "\n",
       "#sk-container-id-63 div.sk-toggleable__content.fitted pre {\n",
       "  /* unfitted */\n",
       "  background-color: var(--sklearn-color-fitted-level-0);\n",
       "}\n",
       "\n",
       "#sk-container-id-63 input.sk-toggleable__control:checked~div.sk-toggleable__content {\n",
       "  /* Expand drop-down */\n",
       "  max-height: 200px;\n",
       "  max-width: 100%;\n",
       "  overflow: auto;\n",
       "}\n",
       "\n",
       "#sk-container-id-63 input.sk-toggleable__control:checked~label.sk-toggleable__label-arrow:before {\n",
       "  content: \"▾\";\n",
       "}\n",
       "\n",
       "/* Pipeline/ColumnTransformer-specific style */\n",
       "\n",
       "#sk-container-id-63 div.sk-label input.sk-toggleable__control:checked~label.sk-toggleable__label {\n",
       "  color: var(--sklearn-color-text);\n",
       "  background-color: var(--sklearn-color-unfitted-level-2);\n",
       "}\n",
       "\n",
       "#sk-container-id-63 div.sk-label.fitted input.sk-toggleable__control:checked~label.sk-toggleable__label {\n",
       "  background-color: var(--sklearn-color-fitted-level-2);\n",
       "}\n",
       "\n",
       "/* Estimator-specific style */\n",
       "\n",
       "/* Colorize estimator box */\n",
       "#sk-container-id-63 div.sk-estimator input.sk-toggleable__control:checked~label.sk-toggleable__label {\n",
       "  /* unfitted */\n",
       "  background-color: var(--sklearn-color-unfitted-level-2);\n",
       "}\n",
       "\n",
       "#sk-container-id-63 div.sk-estimator.fitted input.sk-toggleable__control:checked~label.sk-toggleable__label {\n",
       "  /* fitted */\n",
       "  background-color: var(--sklearn-color-fitted-level-2);\n",
       "}\n",
       "\n",
       "#sk-container-id-63 div.sk-label label.sk-toggleable__label,\n",
       "#sk-container-id-63 div.sk-label label {\n",
       "  /* The background is the default theme color */\n",
       "  color: var(--sklearn-color-text-on-default-background);\n",
       "}\n",
       "\n",
       "/* On hover, darken the color of the background */\n",
       "#sk-container-id-63 div.sk-label:hover label.sk-toggleable__label {\n",
       "  color: var(--sklearn-color-text);\n",
       "  background-color: var(--sklearn-color-unfitted-level-2);\n",
       "}\n",
       "\n",
       "/* Label box, darken color on hover, fitted */\n",
       "#sk-container-id-63 div.sk-label.fitted:hover label.sk-toggleable__label.fitted {\n",
       "  color: var(--sklearn-color-text);\n",
       "  background-color: var(--sklearn-color-fitted-level-2);\n",
       "}\n",
       "\n",
       "/* Estimator label */\n",
       "\n",
       "#sk-container-id-63 div.sk-label label {\n",
       "  font-family: monospace;\n",
       "  font-weight: bold;\n",
       "  display: inline-block;\n",
       "  line-height: 1.2em;\n",
       "}\n",
       "\n",
       "#sk-container-id-63 div.sk-label-container {\n",
       "  text-align: center;\n",
       "}\n",
       "\n",
       "/* Estimator-specific */\n",
       "#sk-container-id-63 div.sk-estimator {\n",
       "  font-family: monospace;\n",
       "  border: 1px dotted var(--sklearn-color-border-box);\n",
       "  border-radius: 0.25em;\n",
       "  box-sizing: border-box;\n",
       "  margin-bottom: 0.5em;\n",
       "  /* unfitted */\n",
       "  background-color: var(--sklearn-color-unfitted-level-0);\n",
       "}\n",
       "\n",
       "#sk-container-id-63 div.sk-estimator.fitted {\n",
       "  /* fitted */\n",
       "  background-color: var(--sklearn-color-fitted-level-0);\n",
       "}\n",
       "\n",
       "/* on hover */\n",
       "#sk-container-id-63 div.sk-estimator:hover {\n",
       "  /* unfitted */\n",
       "  background-color: var(--sklearn-color-unfitted-level-2);\n",
       "}\n",
       "\n",
       "#sk-container-id-63 div.sk-estimator.fitted:hover {\n",
       "  /* fitted */\n",
       "  background-color: var(--sklearn-color-fitted-level-2);\n",
       "}\n",
       "\n",
       "/* Specification for estimator info (e.g. \"i\" and \"?\") */\n",
       "\n",
       "/* Common style for \"i\" and \"?\" */\n",
       "\n",
       ".sk-estimator-doc-link,\n",
       "a:link.sk-estimator-doc-link,\n",
       "a:visited.sk-estimator-doc-link {\n",
       "  float: right;\n",
       "  font-size: smaller;\n",
       "  line-height: 1em;\n",
       "  font-family: monospace;\n",
       "  background-color: var(--sklearn-color-background);\n",
       "  border-radius: 1em;\n",
       "  height: 1em;\n",
       "  width: 1em;\n",
       "  text-decoration: none !important;\n",
       "  margin-left: 0.5em;\n",
       "  text-align: center;\n",
       "  /* unfitted */\n",
       "  border: var(--sklearn-color-unfitted-level-1) 1pt solid;\n",
       "  color: var(--sklearn-color-unfitted-level-1);\n",
       "}\n",
       "\n",
       ".sk-estimator-doc-link.fitted,\n",
       "a:link.sk-estimator-doc-link.fitted,\n",
       "a:visited.sk-estimator-doc-link.fitted {\n",
       "  /* fitted */\n",
       "  border: var(--sklearn-color-fitted-level-1) 1pt solid;\n",
       "  color: var(--sklearn-color-fitted-level-1);\n",
       "}\n",
       "\n",
       "/* On hover */\n",
       "div.sk-estimator:hover .sk-estimator-doc-link:hover,\n",
       ".sk-estimator-doc-link:hover,\n",
       "div.sk-label-container:hover .sk-estimator-doc-link:hover,\n",
       ".sk-estimator-doc-link:hover {\n",
       "  /* unfitted */\n",
       "  background-color: var(--sklearn-color-unfitted-level-3);\n",
       "  color: var(--sklearn-color-background);\n",
       "  text-decoration: none;\n",
       "}\n",
       "\n",
       "div.sk-estimator.fitted:hover .sk-estimator-doc-link.fitted:hover,\n",
       ".sk-estimator-doc-link.fitted:hover,\n",
       "div.sk-label-container:hover .sk-estimator-doc-link.fitted:hover,\n",
       ".sk-estimator-doc-link.fitted:hover {\n",
       "  /* fitted */\n",
       "  background-color: var(--sklearn-color-fitted-level-3);\n",
       "  color: var(--sklearn-color-background);\n",
       "  text-decoration: none;\n",
       "}\n",
       "\n",
       "/* Span, style for the box shown on hovering the info icon */\n",
       ".sk-estimator-doc-link span {\n",
       "  display: none;\n",
       "  z-index: 9999;\n",
       "  position: relative;\n",
       "  font-weight: normal;\n",
       "  right: .2ex;\n",
       "  padding: .5ex;\n",
       "  margin: .5ex;\n",
       "  width: min-content;\n",
       "  min-width: 20ex;\n",
       "  max-width: 50ex;\n",
       "  color: var(--sklearn-color-text);\n",
       "  box-shadow: 2pt 2pt 4pt #999;\n",
       "  /* unfitted */\n",
       "  background: var(--sklearn-color-unfitted-level-0);\n",
       "  border: .5pt solid var(--sklearn-color-unfitted-level-3);\n",
       "}\n",
       "\n",
       ".sk-estimator-doc-link.fitted span {\n",
       "  /* fitted */\n",
       "  background: var(--sklearn-color-fitted-level-0);\n",
       "  border: var(--sklearn-color-fitted-level-3);\n",
       "}\n",
       "\n",
       ".sk-estimator-doc-link:hover span {\n",
       "  display: block;\n",
       "}\n",
       "\n",
       "/* \"?\"-specific style due to the `<a>` HTML tag */\n",
       "\n",
       "#sk-container-id-63 a.estimator_doc_link {\n",
       "  float: right;\n",
       "  font-size: 1rem;\n",
       "  line-height: 1em;\n",
       "  font-family: monospace;\n",
       "  background-color: var(--sklearn-color-background);\n",
       "  border-radius: 1rem;\n",
       "  height: 1rem;\n",
       "  width: 1rem;\n",
       "  text-decoration: none;\n",
       "  /* unfitted */\n",
       "  color: var(--sklearn-color-unfitted-level-1);\n",
       "  border: var(--sklearn-color-unfitted-level-1) 1pt solid;\n",
       "}\n",
       "\n",
       "#sk-container-id-63 a.estimator_doc_link.fitted {\n",
       "  /* fitted */\n",
       "  border: var(--sklearn-color-fitted-level-1) 1pt solid;\n",
       "  color: var(--sklearn-color-fitted-level-1);\n",
       "}\n",
       "\n",
       "/* On hover */\n",
       "#sk-container-id-63 a.estimator_doc_link:hover {\n",
       "  /* unfitted */\n",
       "  background-color: var(--sklearn-color-unfitted-level-3);\n",
       "  color: var(--sklearn-color-background);\n",
       "  text-decoration: none;\n",
       "}\n",
       "\n",
       "#sk-container-id-63 a.estimator_doc_link.fitted:hover {\n",
       "  /* fitted */\n",
       "  background-color: var(--sklearn-color-fitted-level-3);\n",
       "}\n",
       "</style><div id=\"sk-container-id-63\" class=\"sk-top-container\"><div class=\"sk-text-repr-fallback\"><pre>GridSearchCV(cv=5, estimator=LogisticRegression(random_state=42), n_jobs=-1,\n",
       "             param_grid={&#x27;C&#x27;: [0.01, 0.1, 1, 10],\n",
       "                         &#x27;max_iter&#x27;: [100, 200, 300, 500], &#x27;penalty&#x27;: [&#x27;l2&#x27;],\n",
       "                         &#x27;solver&#x27;: [&#x27;liblinear&#x27;, &#x27;lbfgs&#x27;]},\n",
       "             scoring=&#x27;f1&#x27;, verbose=1)</pre><b>In a Jupyter environment, please rerun this cell to show the HTML representation or trust the notebook. <br />On GitHub, the HTML representation is unable to render, please try loading this page with nbviewer.org.</b></div><div class=\"sk-container\" hidden><div class=\"sk-item sk-dashed-wrapped\"><div class=\"sk-label-container\"><div class=\"sk-label fitted sk-toggleable\"><input class=\"sk-toggleable__control sk-hidden--visually\" id=\"sk-estimator-id-123\" type=\"checkbox\" ><label for=\"sk-estimator-id-123\" class=\"sk-toggleable__label fitted sk-toggleable__label-arrow\"><div><div>GridSearchCV</div></div><div><a class=\"sk-estimator-doc-link fitted\" rel=\"noreferrer\" target=\"_blank\" href=\"https://scikit-learn.org/1.6/modules/generated/sklearn.model_selection.GridSearchCV.html\">?<span>Documentation for GridSearchCV</span></a><span class=\"sk-estimator-doc-link fitted\">i<span>Fitted</span></span></div></label><div class=\"sk-toggleable__content fitted\"><pre>GridSearchCV(cv=5, estimator=LogisticRegression(random_state=42), n_jobs=-1,\n",
       "             param_grid={&#x27;C&#x27;: [0.01, 0.1, 1, 10],\n",
       "                         &#x27;max_iter&#x27;: [100, 200, 300, 500], &#x27;penalty&#x27;: [&#x27;l2&#x27;],\n",
       "                         &#x27;solver&#x27;: [&#x27;liblinear&#x27;, &#x27;lbfgs&#x27;]},\n",
       "             scoring=&#x27;f1&#x27;, verbose=1)</pre></div> </div></div><div class=\"sk-parallel\"><div class=\"sk-parallel-item\"><div class=\"sk-item\"><div class=\"sk-label-container\"><div class=\"sk-label fitted sk-toggleable\"><input class=\"sk-toggleable__control sk-hidden--visually\" id=\"sk-estimator-id-124\" type=\"checkbox\" ><label for=\"sk-estimator-id-124\" class=\"sk-toggleable__label fitted sk-toggleable__label-arrow\"><div><div>best_estimator_: LogisticRegression</div></div></label><div class=\"sk-toggleable__content fitted\"><pre>LogisticRegression(C=10, random_state=42, solver=&#x27;liblinear&#x27;)</pre></div> </div></div><div class=\"sk-serial\"><div class=\"sk-item\"><div class=\"sk-estimator fitted sk-toggleable\"><input class=\"sk-toggleable__control sk-hidden--visually\" id=\"sk-estimator-id-125\" type=\"checkbox\" ><label for=\"sk-estimator-id-125\" class=\"sk-toggleable__label fitted sk-toggleable__label-arrow\"><div><div>LogisticRegression</div></div><div><a class=\"sk-estimator-doc-link fitted\" rel=\"noreferrer\" target=\"_blank\" href=\"https://scikit-learn.org/1.6/modules/generated/sklearn.linear_model.LogisticRegression.html\">?<span>Documentation for LogisticRegression</span></a></div></label><div class=\"sk-toggleable__content fitted\"><pre>LogisticRegression(C=10, random_state=42, solver=&#x27;liblinear&#x27;)</pre></div> </div></div></div></div></div></div></div></div></div>"
      ]
     },
     "execution_count": 1131,
     "metadata": {},
     "output_type": "execute_result"
    }
   ],
   "execution_count": 1131
  },
  {
   "metadata": {
    "ExecuteTime": {
     "end_time": "2025-06-04T10:14:48.110734Z",
     "start_time": "2025-06-04T10:14:48.096502Z"
    }
   },
   "cell_type": "code",
   "source": [
    "# Predicciones\n",
    "y_pred = grid.predict(X_test_final)\n",
    "\n",
    "# Reporte\n",
    "print(\"\\n Mejores parámetros encontrados:\", grid.best_params_)\n",
    "print(\"\\n Reporte de Clasificación:\\n\", classification_report(y_test, y_pred, target_names=[\"Safe\", \"Phishing\"]))\n",
    "print(\"\\n Matriz de Confusión:\\n\", confusion_matrix(y_test, y_pred))"
   ],
   "id": "3f21d238e85e1664",
   "outputs": [
    {
     "name": "stdout",
     "output_type": "stream",
     "text": [
      "\n",
      " Mejores parámetros encontrados: {'C': 10, 'max_iter': 100, 'penalty': 'l2', 'solver': 'liblinear'}\n",
      "\n",
      " Reporte de Clasificación:\n",
      "               precision    recall  f1-score   support\n",
      "\n",
      "        Safe       0.98      0.97      0.97       792\n",
      "    Phishing       0.95      0.97      0.96       512\n",
      "\n",
      "    accuracy                           0.97      1304\n",
      "   macro avg       0.96      0.97      0.97      1304\n",
      "weighted avg       0.97      0.97      0.97      1304\n",
      "\n",
      "\n",
      " Matriz de Confusión:\n",
      " [[766  26]\n",
      " [ 17 495]]\n"
     ]
    }
   ],
   "execution_count": 1132
  },
  {
   "metadata": {
    "ExecuteTime": {
     "end_time": "2025-06-04T10:14:48.133364Z",
     "start_time": "2025-06-04T10:14:48.129736Z"
    }
   },
   "cell_type": "code",
   "source": [
    "print(\"Mejor configuración:\", grid.best_params_)\n",
    "print(\"Mejor F1 Score CV:\", grid.best_score_)"
   ],
   "id": "30b0affeee2f7a3f",
   "outputs": [
    {
     "name": "stdout",
     "output_type": "stream",
     "text": [
      "Mejor configuración: {'C': 10, 'max_iter': 100, 'penalty': 'l2', 'solver': 'liblinear'}\n",
      "Mejor F1 Score CV: 0.9532342048597764\n"
     ]
    }
   ],
   "execution_count": 1133
  },
  {
   "metadata": {
    "ExecuteTime": {
     "end_time": "2025-06-04T10:14:48.240571Z",
     "start_time": "2025-06-04T10:14:48.171470Z"
    }
   },
   "cell_type": "code",
   "source": [
    "# Entrenamos una regresión logística\n",
    "model_body = LogisticRegression(\n",
    "    C=10,\n",
    "    max_iter=100,\n",
    "    penalty='l2',\n",
    "    solver='liblinear',\n",
    "    random_state=42\n",
    ")\n",
    "model_body.fit(X_train_final, y_train)"
   ],
   "id": "5ceb6e62412a85d0",
   "outputs": [
    {
     "data": {
      "text/plain": [
       "LogisticRegression(C=10, random_state=42, solver='liblinear')"
      ],
      "text/html": [
       "<style>#sk-container-id-64 {\n",
       "  /* Definition of color scheme common for light and dark mode */\n",
       "  --sklearn-color-text: #000;\n",
       "  --sklearn-color-text-muted: #666;\n",
       "  --sklearn-color-line: gray;\n",
       "  /* Definition of color scheme for unfitted estimators */\n",
       "  --sklearn-color-unfitted-level-0: #fff5e6;\n",
       "  --sklearn-color-unfitted-level-1: #f6e4d2;\n",
       "  --sklearn-color-unfitted-level-2: #ffe0b3;\n",
       "  --sklearn-color-unfitted-level-3: chocolate;\n",
       "  /* Definition of color scheme for fitted estimators */\n",
       "  --sklearn-color-fitted-level-0: #f0f8ff;\n",
       "  --sklearn-color-fitted-level-1: #d4ebff;\n",
       "  --sklearn-color-fitted-level-2: #b3dbfd;\n",
       "  --sklearn-color-fitted-level-3: cornflowerblue;\n",
       "\n",
       "  /* Specific color for light theme */\n",
       "  --sklearn-color-text-on-default-background: var(--sg-text-color, var(--theme-code-foreground, var(--jp-content-font-color1, black)));\n",
       "  --sklearn-color-background: var(--sg-background-color, var(--theme-background, var(--jp-layout-color0, white)));\n",
       "  --sklearn-color-border-box: var(--sg-text-color, var(--theme-code-foreground, var(--jp-content-font-color1, black)));\n",
       "  --sklearn-color-icon: #696969;\n",
       "\n",
       "  @media (prefers-color-scheme: dark) {\n",
       "    /* Redefinition of color scheme for dark theme */\n",
       "    --sklearn-color-text-on-default-background: var(--sg-text-color, var(--theme-code-foreground, var(--jp-content-font-color1, white)));\n",
       "    --sklearn-color-background: var(--sg-background-color, var(--theme-background, var(--jp-layout-color0, #111)));\n",
       "    --sklearn-color-border-box: var(--sg-text-color, var(--theme-code-foreground, var(--jp-content-font-color1, white)));\n",
       "    --sklearn-color-icon: #878787;\n",
       "  }\n",
       "}\n",
       "\n",
       "#sk-container-id-64 {\n",
       "  color: var(--sklearn-color-text);\n",
       "}\n",
       "\n",
       "#sk-container-id-64 pre {\n",
       "  padding: 0;\n",
       "}\n",
       "\n",
       "#sk-container-id-64 input.sk-hidden--visually {\n",
       "  border: 0;\n",
       "  clip: rect(1px 1px 1px 1px);\n",
       "  clip: rect(1px, 1px, 1px, 1px);\n",
       "  height: 1px;\n",
       "  margin: -1px;\n",
       "  overflow: hidden;\n",
       "  padding: 0;\n",
       "  position: absolute;\n",
       "  width: 1px;\n",
       "}\n",
       "\n",
       "#sk-container-id-64 div.sk-dashed-wrapped {\n",
       "  border: 1px dashed var(--sklearn-color-line);\n",
       "  margin: 0 0.4em 0.5em 0.4em;\n",
       "  box-sizing: border-box;\n",
       "  padding-bottom: 0.4em;\n",
       "  background-color: var(--sklearn-color-background);\n",
       "}\n",
       "\n",
       "#sk-container-id-64 div.sk-container {\n",
       "  /* jupyter's `normalize.less` sets `[hidden] { display: none; }`\n",
       "     but bootstrap.min.css set `[hidden] { display: none !important; }`\n",
       "     so we also need the `!important` here to be able to override the\n",
       "     default hidden behavior on the sphinx rendered scikit-learn.org.\n",
       "     See: https://github.com/scikit-learn/scikit-learn/issues/21755 */\n",
       "  display: inline-block !important;\n",
       "  position: relative;\n",
       "}\n",
       "\n",
       "#sk-container-id-64 div.sk-text-repr-fallback {\n",
       "  display: none;\n",
       "}\n",
       "\n",
       "div.sk-parallel-item,\n",
       "div.sk-serial,\n",
       "div.sk-item {\n",
       "  /* draw centered vertical line to link estimators */\n",
       "  background-image: linear-gradient(var(--sklearn-color-text-on-default-background), var(--sklearn-color-text-on-default-background));\n",
       "  background-size: 2px 100%;\n",
       "  background-repeat: no-repeat;\n",
       "  background-position: center center;\n",
       "}\n",
       "\n",
       "/* Parallel-specific style estimator block */\n",
       "\n",
       "#sk-container-id-64 div.sk-parallel-item::after {\n",
       "  content: \"\";\n",
       "  width: 100%;\n",
       "  border-bottom: 2px solid var(--sklearn-color-text-on-default-background);\n",
       "  flex-grow: 1;\n",
       "}\n",
       "\n",
       "#sk-container-id-64 div.sk-parallel {\n",
       "  display: flex;\n",
       "  align-items: stretch;\n",
       "  justify-content: center;\n",
       "  background-color: var(--sklearn-color-background);\n",
       "  position: relative;\n",
       "}\n",
       "\n",
       "#sk-container-id-64 div.sk-parallel-item {\n",
       "  display: flex;\n",
       "  flex-direction: column;\n",
       "}\n",
       "\n",
       "#sk-container-id-64 div.sk-parallel-item:first-child::after {\n",
       "  align-self: flex-end;\n",
       "  width: 50%;\n",
       "}\n",
       "\n",
       "#sk-container-id-64 div.sk-parallel-item:last-child::after {\n",
       "  align-self: flex-start;\n",
       "  width: 50%;\n",
       "}\n",
       "\n",
       "#sk-container-id-64 div.sk-parallel-item:only-child::after {\n",
       "  width: 0;\n",
       "}\n",
       "\n",
       "/* Serial-specific style estimator block */\n",
       "\n",
       "#sk-container-id-64 div.sk-serial {\n",
       "  display: flex;\n",
       "  flex-direction: column;\n",
       "  align-items: center;\n",
       "  background-color: var(--sklearn-color-background);\n",
       "  padding-right: 1em;\n",
       "  padding-left: 1em;\n",
       "}\n",
       "\n",
       "\n",
       "/* Toggleable style: style used for estimator/Pipeline/ColumnTransformer box that is\n",
       "clickable and can be expanded/collapsed.\n",
       "- Pipeline and ColumnTransformer use this feature and define the default style\n",
       "- Estimators will overwrite some part of the style using the `sk-estimator` class\n",
       "*/\n",
       "\n",
       "/* Pipeline and ColumnTransformer style (default) */\n",
       "\n",
       "#sk-container-id-64 div.sk-toggleable {\n",
       "  /* Default theme specific background. It is overwritten whether we have a\n",
       "  specific estimator or a Pipeline/ColumnTransformer */\n",
       "  background-color: var(--sklearn-color-background);\n",
       "}\n",
       "\n",
       "/* Toggleable label */\n",
       "#sk-container-id-64 label.sk-toggleable__label {\n",
       "  cursor: pointer;\n",
       "  display: flex;\n",
       "  width: 100%;\n",
       "  margin-bottom: 0;\n",
       "  padding: 0.5em;\n",
       "  box-sizing: border-box;\n",
       "  text-align: center;\n",
       "  align-items: start;\n",
       "  justify-content: space-between;\n",
       "  gap: 0.5em;\n",
       "}\n",
       "\n",
       "#sk-container-id-64 label.sk-toggleable__label .caption {\n",
       "  font-size: 0.6rem;\n",
       "  font-weight: lighter;\n",
       "  color: var(--sklearn-color-text-muted);\n",
       "}\n",
       "\n",
       "#sk-container-id-64 label.sk-toggleable__label-arrow:before {\n",
       "  /* Arrow on the left of the label */\n",
       "  content: \"▸\";\n",
       "  float: left;\n",
       "  margin-right: 0.25em;\n",
       "  color: var(--sklearn-color-icon);\n",
       "}\n",
       "\n",
       "#sk-container-id-64 label.sk-toggleable__label-arrow:hover:before {\n",
       "  color: var(--sklearn-color-text);\n",
       "}\n",
       "\n",
       "/* Toggleable content - dropdown */\n",
       "\n",
       "#sk-container-id-64 div.sk-toggleable__content {\n",
       "  max-height: 0;\n",
       "  max-width: 0;\n",
       "  overflow: hidden;\n",
       "  text-align: left;\n",
       "  /* unfitted */\n",
       "  background-color: var(--sklearn-color-unfitted-level-0);\n",
       "}\n",
       "\n",
       "#sk-container-id-64 div.sk-toggleable__content.fitted {\n",
       "  /* fitted */\n",
       "  background-color: var(--sklearn-color-fitted-level-0);\n",
       "}\n",
       "\n",
       "#sk-container-id-64 div.sk-toggleable__content pre {\n",
       "  margin: 0.2em;\n",
       "  border-radius: 0.25em;\n",
       "  color: var(--sklearn-color-text);\n",
       "  /* unfitted */\n",
       "  background-color: var(--sklearn-color-unfitted-level-0);\n",
       "}\n",
       "\n",
       "#sk-container-id-64 div.sk-toggleable__content.fitted pre {\n",
       "  /* unfitted */\n",
       "  background-color: var(--sklearn-color-fitted-level-0);\n",
       "}\n",
       "\n",
       "#sk-container-id-64 input.sk-toggleable__control:checked~div.sk-toggleable__content {\n",
       "  /* Expand drop-down */\n",
       "  max-height: 200px;\n",
       "  max-width: 100%;\n",
       "  overflow: auto;\n",
       "}\n",
       "\n",
       "#sk-container-id-64 input.sk-toggleable__control:checked~label.sk-toggleable__label-arrow:before {\n",
       "  content: \"▾\";\n",
       "}\n",
       "\n",
       "/* Pipeline/ColumnTransformer-specific style */\n",
       "\n",
       "#sk-container-id-64 div.sk-label input.sk-toggleable__control:checked~label.sk-toggleable__label {\n",
       "  color: var(--sklearn-color-text);\n",
       "  background-color: var(--sklearn-color-unfitted-level-2);\n",
       "}\n",
       "\n",
       "#sk-container-id-64 div.sk-label.fitted input.sk-toggleable__control:checked~label.sk-toggleable__label {\n",
       "  background-color: var(--sklearn-color-fitted-level-2);\n",
       "}\n",
       "\n",
       "/* Estimator-specific style */\n",
       "\n",
       "/* Colorize estimator box */\n",
       "#sk-container-id-64 div.sk-estimator input.sk-toggleable__control:checked~label.sk-toggleable__label {\n",
       "  /* unfitted */\n",
       "  background-color: var(--sklearn-color-unfitted-level-2);\n",
       "}\n",
       "\n",
       "#sk-container-id-64 div.sk-estimator.fitted input.sk-toggleable__control:checked~label.sk-toggleable__label {\n",
       "  /* fitted */\n",
       "  background-color: var(--sklearn-color-fitted-level-2);\n",
       "}\n",
       "\n",
       "#sk-container-id-64 div.sk-label label.sk-toggleable__label,\n",
       "#sk-container-id-64 div.sk-label label {\n",
       "  /* The background is the default theme color */\n",
       "  color: var(--sklearn-color-text-on-default-background);\n",
       "}\n",
       "\n",
       "/* On hover, darken the color of the background */\n",
       "#sk-container-id-64 div.sk-label:hover label.sk-toggleable__label {\n",
       "  color: var(--sklearn-color-text);\n",
       "  background-color: var(--sklearn-color-unfitted-level-2);\n",
       "}\n",
       "\n",
       "/* Label box, darken color on hover, fitted */\n",
       "#sk-container-id-64 div.sk-label.fitted:hover label.sk-toggleable__label.fitted {\n",
       "  color: var(--sklearn-color-text);\n",
       "  background-color: var(--sklearn-color-fitted-level-2);\n",
       "}\n",
       "\n",
       "/* Estimator label */\n",
       "\n",
       "#sk-container-id-64 div.sk-label label {\n",
       "  font-family: monospace;\n",
       "  font-weight: bold;\n",
       "  display: inline-block;\n",
       "  line-height: 1.2em;\n",
       "}\n",
       "\n",
       "#sk-container-id-64 div.sk-label-container {\n",
       "  text-align: center;\n",
       "}\n",
       "\n",
       "/* Estimator-specific */\n",
       "#sk-container-id-64 div.sk-estimator {\n",
       "  font-family: monospace;\n",
       "  border: 1px dotted var(--sklearn-color-border-box);\n",
       "  border-radius: 0.25em;\n",
       "  box-sizing: border-box;\n",
       "  margin-bottom: 0.5em;\n",
       "  /* unfitted */\n",
       "  background-color: var(--sklearn-color-unfitted-level-0);\n",
       "}\n",
       "\n",
       "#sk-container-id-64 div.sk-estimator.fitted {\n",
       "  /* fitted */\n",
       "  background-color: var(--sklearn-color-fitted-level-0);\n",
       "}\n",
       "\n",
       "/* on hover */\n",
       "#sk-container-id-64 div.sk-estimator:hover {\n",
       "  /* unfitted */\n",
       "  background-color: var(--sklearn-color-unfitted-level-2);\n",
       "}\n",
       "\n",
       "#sk-container-id-64 div.sk-estimator.fitted:hover {\n",
       "  /* fitted */\n",
       "  background-color: var(--sklearn-color-fitted-level-2);\n",
       "}\n",
       "\n",
       "/* Specification for estimator info (e.g. \"i\" and \"?\") */\n",
       "\n",
       "/* Common style for \"i\" and \"?\" */\n",
       "\n",
       ".sk-estimator-doc-link,\n",
       "a:link.sk-estimator-doc-link,\n",
       "a:visited.sk-estimator-doc-link {\n",
       "  float: right;\n",
       "  font-size: smaller;\n",
       "  line-height: 1em;\n",
       "  font-family: monospace;\n",
       "  background-color: var(--sklearn-color-background);\n",
       "  border-radius: 1em;\n",
       "  height: 1em;\n",
       "  width: 1em;\n",
       "  text-decoration: none !important;\n",
       "  margin-left: 0.5em;\n",
       "  text-align: center;\n",
       "  /* unfitted */\n",
       "  border: var(--sklearn-color-unfitted-level-1) 1pt solid;\n",
       "  color: var(--sklearn-color-unfitted-level-1);\n",
       "}\n",
       "\n",
       ".sk-estimator-doc-link.fitted,\n",
       "a:link.sk-estimator-doc-link.fitted,\n",
       "a:visited.sk-estimator-doc-link.fitted {\n",
       "  /* fitted */\n",
       "  border: var(--sklearn-color-fitted-level-1) 1pt solid;\n",
       "  color: var(--sklearn-color-fitted-level-1);\n",
       "}\n",
       "\n",
       "/* On hover */\n",
       "div.sk-estimator:hover .sk-estimator-doc-link:hover,\n",
       ".sk-estimator-doc-link:hover,\n",
       "div.sk-label-container:hover .sk-estimator-doc-link:hover,\n",
       ".sk-estimator-doc-link:hover {\n",
       "  /* unfitted */\n",
       "  background-color: var(--sklearn-color-unfitted-level-3);\n",
       "  color: var(--sklearn-color-background);\n",
       "  text-decoration: none;\n",
       "}\n",
       "\n",
       "div.sk-estimator.fitted:hover .sk-estimator-doc-link.fitted:hover,\n",
       ".sk-estimator-doc-link.fitted:hover,\n",
       "div.sk-label-container:hover .sk-estimator-doc-link.fitted:hover,\n",
       ".sk-estimator-doc-link.fitted:hover {\n",
       "  /* fitted */\n",
       "  background-color: var(--sklearn-color-fitted-level-3);\n",
       "  color: var(--sklearn-color-background);\n",
       "  text-decoration: none;\n",
       "}\n",
       "\n",
       "/* Span, style for the box shown on hovering the info icon */\n",
       ".sk-estimator-doc-link span {\n",
       "  display: none;\n",
       "  z-index: 9999;\n",
       "  position: relative;\n",
       "  font-weight: normal;\n",
       "  right: .2ex;\n",
       "  padding: .5ex;\n",
       "  margin: .5ex;\n",
       "  width: min-content;\n",
       "  min-width: 20ex;\n",
       "  max-width: 50ex;\n",
       "  color: var(--sklearn-color-text);\n",
       "  box-shadow: 2pt 2pt 4pt #999;\n",
       "  /* unfitted */\n",
       "  background: var(--sklearn-color-unfitted-level-0);\n",
       "  border: .5pt solid var(--sklearn-color-unfitted-level-3);\n",
       "}\n",
       "\n",
       ".sk-estimator-doc-link.fitted span {\n",
       "  /* fitted */\n",
       "  background: var(--sklearn-color-fitted-level-0);\n",
       "  border: var(--sklearn-color-fitted-level-3);\n",
       "}\n",
       "\n",
       ".sk-estimator-doc-link:hover span {\n",
       "  display: block;\n",
       "}\n",
       "\n",
       "/* \"?\"-specific style due to the `<a>` HTML tag */\n",
       "\n",
       "#sk-container-id-64 a.estimator_doc_link {\n",
       "  float: right;\n",
       "  font-size: 1rem;\n",
       "  line-height: 1em;\n",
       "  font-family: monospace;\n",
       "  background-color: var(--sklearn-color-background);\n",
       "  border-radius: 1rem;\n",
       "  height: 1rem;\n",
       "  width: 1rem;\n",
       "  text-decoration: none;\n",
       "  /* unfitted */\n",
       "  color: var(--sklearn-color-unfitted-level-1);\n",
       "  border: var(--sklearn-color-unfitted-level-1) 1pt solid;\n",
       "}\n",
       "\n",
       "#sk-container-id-64 a.estimator_doc_link.fitted {\n",
       "  /* fitted */\n",
       "  border: var(--sklearn-color-fitted-level-1) 1pt solid;\n",
       "  color: var(--sklearn-color-fitted-level-1);\n",
       "}\n",
       "\n",
       "/* On hover */\n",
       "#sk-container-id-64 a.estimator_doc_link:hover {\n",
       "  /* unfitted */\n",
       "  background-color: var(--sklearn-color-unfitted-level-3);\n",
       "  color: var(--sklearn-color-background);\n",
       "  text-decoration: none;\n",
       "}\n",
       "\n",
       "#sk-container-id-64 a.estimator_doc_link.fitted:hover {\n",
       "  /* fitted */\n",
       "  background-color: var(--sklearn-color-fitted-level-3);\n",
       "}\n",
       "</style><div id=\"sk-container-id-64\" class=\"sk-top-container\"><div class=\"sk-text-repr-fallback\"><pre>LogisticRegression(C=10, random_state=42, solver=&#x27;liblinear&#x27;)</pre><b>In a Jupyter environment, please rerun this cell to show the HTML representation or trust the notebook. <br />On GitHub, the HTML representation is unable to render, please try loading this page with nbviewer.org.</b></div><div class=\"sk-container\" hidden><div class=\"sk-item\"><div class=\"sk-estimator fitted sk-toggleable\"><input class=\"sk-toggleable__control sk-hidden--visually\" id=\"sk-estimator-id-126\" type=\"checkbox\" checked><label for=\"sk-estimator-id-126\" class=\"sk-toggleable__label fitted sk-toggleable__label-arrow\"><div><div>LogisticRegression</div></div><div><a class=\"sk-estimator-doc-link fitted\" rel=\"noreferrer\" target=\"_blank\" href=\"https://scikit-learn.org/1.6/modules/generated/sklearn.linear_model.LogisticRegression.html\">?<span>Documentation for LogisticRegression</span></a><span class=\"sk-estimator-doc-link fitted\">i<span>Fitted</span></span></div></label><div class=\"sk-toggleable__content fitted\"><pre>LogisticRegression(C=10, random_state=42, solver=&#x27;liblinear&#x27;)</pre></div> </div></div></div></div>"
      ]
     },
     "execution_count": 1134,
     "metadata": {},
     "output_type": "execute_result"
    }
   ],
   "execution_count": 1134
  },
  {
   "metadata": {
    "ExecuteTime": {
     "end_time": "2025-06-04T10:14:48.249972Z",
     "start_time": "2025-06-04T10:14:48.245573Z"
    }
   },
   "cell_type": "code",
   "source": [
    "# 8. Evaluación del modelo\n",
    "# Predicciones\n",
    "y_pred_final = model_body.predict(X_test_final)"
   ],
   "id": "80701977aee92c2e",
   "outputs": [],
   "execution_count": 1135
  },
  {
   "metadata": {
    "ExecuteTime": {
     "end_time": "2025-06-04T10:14:48.298051Z",
     "start_time": "2025-06-04T10:14:48.278090Z"
    }
   },
   "cell_type": "code",
   "source": [
    "# Probabilidades y predicciones\n",
    "y_proba = grid.best_estimator_.predict_proba(X_test_final)[:, 1]\n",
    "y_pred = grid.best_estimator_.predict(X_test_final)\n",
    "\n",
    "# Métricas\n",
    "print(\"=== Resultados del Modelo en Cuerpo de Correos ===\")\n",
    "print(f\"Accuracy:  {accuracy_score(y_test, y_pred):.4f}\")\n",
    "print(f\"Precision: {precision_score(y_test, y_pred):.4f}\")\n",
    "print(f\"Recall:    {recall_score(y_test, y_pred):.4f}\")\n",
    "print(f\"F1 Score:  {f1_score(y_test, y_pred):.4f}\")\n",
    "print(f\"ROC AUC:   {roc_auc_score(y_test, y_proba):.4f}\")"
   ],
   "id": "bd2b5ac73597ca30",
   "outputs": [
    {
     "name": "stdout",
     "output_type": "stream",
     "text": [
      "=== Resultados del Modelo en Cuerpo de Correos ===\n",
      "Accuracy:  0.9670\n",
      "Precision: 0.9501\n",
      "Recall:    0.9668\n",
      "F1 Score:  0.9584\n",
      "ROC AUC:   0.9951\n"
     ]
    }
   ],
   "execution_count": 1136
  },
  {
   "metadata": {
    "ExecuteTime": {
     "end_time": "2025-06-04T10:14:48.331122Z",
     "start_time": "2025-06-04T10:14:48.323276Z"
    }
   },
   "cell_type": "code",
   "source": [
    "# Matriz de confusión\n",
    "print(\"\\n🧮 Matriz de confusión:\")\n",
    "print(confusion_matrix(y_test, y_pred))"
   ],
   "id": "30facacdc996774c",
   "outputs": [
    {
     "name": "stdout",
     "output_type": "stream",
     "text": [
      "\n",
      "🧮 Matriz de confusión:\n",
      "[[766  26]\n",
      " [ 17 495]]\n"
     ]
    }
   ],
   "execution_count": 1137
  },
  {
   "metadata": {
    "ExecuteTime": {
     "end_time": "2025-06-04T10:14:48.363184Z",
     "start_time": "2025-06-04T10:14:48.351814Z"
    }
   },
   "cell_type": "code",
   "source": "print(classification_report(y_test, y_pred, target_names=[\"Safe\", \"Phishing\"]))",
   "id": "f89caacec3aed719",
   "outputs": [
    {
     "name": "stdout",
     "output_type": "stream",
     "text": [
      "              precision    recall  f1-score   support\n",
      "\n",
      "        Safe       0.98      0.97      0.97       792\n",
      "    Phishing       0.95      0.97      0.96       512\n",
      "\n",
      "    accuracy                           0.97      1304\n",
      "   macro avg       0.96      0.97      0.97      1304\n",
      "weighted avg       0.97      0.97      0.97      1304\n",
      "\n"
     ]
    }
   ],
   "execution_count": 1138
  },
  {
   "metadata": {
    "ExecuteTime": {
     "end_time": "2025-06-04T10:14:48.522879Z",
     "start_time": "2025-06-04T10:14:48.385273Z"
    }
   },
   "cell_type": "code",
   "source": [
    "joblib.dump(grid.best_estimator_, \"model_body_es.pkl\")\n",
    "joblib.dump(tfidf_body, \"tfidf_body_es.pkl\")\n",
    "joblib.dump(scaler, \"scaler_es.pkl\")\n",
    "\n",
    "print(\"Exported model\")\n",
    "print(\"Exported tfidf_body\")\n",
    "print(\"Exported scaler\")"
   ],
   "id": "e5a87533a9434564",
   "outputs": [
    {
     "name": "stdout",
     "output_type": "stream",
     "text": [
      "Exported model\n",
      "Exported tfidf_body\n",
      "Exported scaler\n"
     ]
    }
   ],
   "execution_count": 1139
  },
  {
   "metadata": {
    "ExecuteTime": {
     "end_time": "2025-06-04T10:14:48.548682Z",
     "start_time": "2025-06-04T10:14:48.544010Z"
    }
   },
   "cell_type": "code",
   "source": [
    "model = joblib.load(\"model_body_es.pkl\")\n",
    "print(\"⛳️ Número de columnas que espera el modelo:\", model.n_features_in_)"
   ],
   "id": "1400268bfd1a4cf",
   "outputs": [
    {
     "name": "stdout",
     "output_type": "stream",
     "text": [
      "⛳️ Número de columnas que espera el modelo: 10001\n"
     ]
    }
   ],
   "execution_count": 1140
  }
 ],
 "metadata": {
  "kernelspec": {
   "display_name": "Python 3",
   "language": "python",
   "name": "python3"
  },
  "language_info": {
   "codemirror_mode": {
    "name": "ipython",
    "version": 2
   },
   "file_extension": ".py",
   "mimetype": "text/x-python",
   "name": "python",
   "nbconvert_exporter": "python",
   "pygments_lexer": "ipython2",
   "version": "2.7.6"
  }
 },
 "nbformat": 4,
 "nbformat_minor": 5
}
