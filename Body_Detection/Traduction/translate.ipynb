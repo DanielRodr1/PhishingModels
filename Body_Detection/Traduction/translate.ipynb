{
 "cells": [
  {
   "metadata": {
    "ExecuteTime": {
     "end_time": "2025-06-04T09:02:39.178768Z",
     "start_time": "2025-06-04T07:20:49.829125Z"
    }
   },
   "cell_type": "code",
   "source": [
    "import pandas as pd\n",
    "from deep_translator import GoogleTranslator\n",
    "from tqdm import tqdm\n",
    "import time\n",
    "\n",
    "# Cargar el archivo original\n",
    "df = pd.read_csv(\"../Extraction - Detection/Data/text_phishing.csv\")\n",
    "# Verificar nombres de columnas automáticamente\n",
    "text_col = None\n",
    "label_col = None\n",
    "\n",
    "for col in df.columns:\n",
    "    if \"text\" in col.lower():\n",
    "        text_col = col\n",
    "    if \"label\" in col.lower() or \"type\" in col.lower():\n",
    "        label_col = col\n",
    "\n",
    "if text_col is None or label_col is None:\n",
    "    raise ValueError(\"No se encontraron columnas compatibles con texto y etiqueta.\")\n",
    "\n",
    "# Renombrar columnas\n",
    "df = df[[text_col, label_col]]\n",
    "df.columns = [\"Email Text\", \"Email Type\"]\n",
    "\n",
    "# Filtrar solo primeras 6531 filas y correos menores a 5000 caracteres\n",
    "df = df[df[\"Email Text\"].astype(str).str.len() < 5000].head(6531).copy()\n",
    "df.reset_index(drop=True, inplace=True)\n",
    "\n",
    "# Inicializar barra de progreso\n",
    "tqdm.pandas()\n",
    "\n",
    "# Función segura de traducción con reintentos\n",
    "def traducir_seguro(texto, max_reintentos=3):\n",
    "    for intento in range(max_reintentos):\n",
    "        try:\n",
    "            return GoogleTranslator(source='auto', target='es').translate(texto)\n",
    "        except Exception:\n",
    "            time.sleep(2)\n",
    "    return \"[TRADUCCIÓN FALLIDA]\"\n",
    "\n",
    "# Traducir con barra de progreso\n",
    "df[\"Email Text Spanish\"] = df[\"Email Text\"].progress_apply(traducir_seguro)\n",
    "\n",
    "# Intentar nuevamente las traducciones fallidas\n",
    "fallidas = df[df[\"Email Text Spanish\"] == \"[TRADUCCIÓN FALLIDA]\"].index\n",
    "for i in fallidas:\n",
    "    df.at[i, \"Email Text Spanish\"] = traducir_seguro(df.at[i, \"Email Text\"], max_reintentos=5)\n",
    "\n",
    "# Guardar como nuevo archivo\n",
    "df.to_csv(\"text_phishing_es_new.csv\", index=False)\n",
    "print(\"Archivo guardado como 'text_phishing_es_new.csv'\")"
   ],
   "id": "76b4a14408d24094",
   "outputs": [
    {
     "name": "stderr",
     "output_type": "stream",
     "text": [
      "100%|██████████| 6531/6531 [1:39:45<00:00,  1.09it/s]\n"
     ]
    },
    {
     "name": "stdout",
     "output_type": "stream",
     "text": [
      "✅ Archivo guardado como 'text_phishing_es_new.csv'\n"
     ]
    }
   ],
   "execution_count": 9
  }
 ],
 "metadata": {
  "kernelspec": {
   "display_name": "Python 3",
   "language": "python",
   "name": "python3"
  },
  "language_info": {
   "codemirror_mode": {
    "name": "ipython",
    "version": 2
   },
   "file_extension": ".py",
   "mimetype": "text/x-python",
   "name": "python",
   "nbconvert_exporter": "python",
   "pygments_lexer": "ipython2",
   "version": "2.7.6"
  }
 },
 "nbformat": 4,
 "nbformat_minor": 5
}
